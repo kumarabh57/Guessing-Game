{
 "cells": [
  {
   "cell_type": "code",
   "execution_count": 1,
   "metadata": {},
   "outputs": [],
   "source": [
    "import random"
   ]
  },
  {
   "cell_type": "code",
   "execution_count": 4,
   "metadata": {},
   "outputs": [
    {
     "name": "stdout",
     "output_type": "stream",
     "text": [
      "Guessed Number:  3\n",
      "Guess Higher\n",
      "Guessed Number:  10\n",
      "Guess Higher\n",
      "Guessed Number:  20\n",
      "Guess Higher\n",
      "Guessed Number:  30\n",
      "Guess Higher\n",
      "Guessed Number:  40\n",
      "Guess Higher\n",
      "Guessed Number:  50\n",
      "Guess Higher\n",
      "Guessed Number:  60\n",
      "Guess Higher\n",
      "Guessed Number:  70\n",
      "Guess Higher\n",
      "Guessed Number:  80\n",
      "Guess Lower\n",
      "Guessed Number:  75\n",
      "Guess Higher\n",
      "Guessed Number:  77\n",
      "Guess Lower\n",
      "Guessed Number:  76\n",
      "Correct Guess\n",
      "You took 12 attempts.\n"
     ]
    }
   ],
   "source": [
    "lottery = random.randint(1,100)\n",
    "guess = int(input('Guess A Number Between 1 To 100'))\n",
    "count=1\n",
    "\n",
    "while guess != lottery:\n",
    "    print('Guessed Number: ',guess)\n",
    "    if guess < lottery:\n",
    "        print('Guess Higher')\n",
    "    else:\n",
    "        print('Guess Lower')\n",
    "    \n",
    "    # print('Guessed Number: ',guess)\n",
    "    guess = int(input('Again Guess A Number Between 1 To 100'))\n",
    "    count+=1\n",
    "\n",
    "print('Guessed Number: ',guess)\n",
    "print('Correct Guess')\n",
    "print('You took',count,'attempts.')"
   ]
  },
  {
   "cell_type": "code",
   "execution_count": null,
   "metadata": {},
   "outputs": [],
   "source": []
  }
 ],
 "metadata": {
  "kernelspec": {
   "display_name": "base",
   "language": "python",
   "name": "python3"
  },
  "language_info": {
   "codemirror_mode": {
    "name": "ipython",
    "version": 3
   },
   "file_extension": ".py",
   "mimetype": "text/x-python",
   "name": "python",
   "nbconvert_exporter": "python",
   "pygments_lexer": "ipython3",
   "version": "3.8.5"
  },
  "orig_nbformat": 4
 },
 "nbformat": 4,
 "nbformat_minor": 2
}
